{
 "cells": [
  {
   "cell_type": "code",
   "execution_count": 1,
   "metadata": {
    "id": "wW2L3svSDYQt",
    "colab_type": "code",
    "colab": {
     "autoexec": {
      "startup": false,
      "wait_interval": 0.0
     },
     "base_uri": "https://localhost:8080/",
     "height": 357.0
    },
    "outputId": "ba4ee90d-9b35-4da5-a66d-5e16de0a3524",
    "executionInfo": {
     "status": "ok",
     "timestamp": 1.53329795035E12,
     "user_tz": -330.0,
     "elapsed": 1323.0,
     "user": {
      "displayName": "Ritika Agarwal",
      "photoUrl": "//lh6.googleusercontent.com/-apHnW5HVWCA/AAAAAAAAAAI/AAAAAAAATyA/QkrOTxAqjBE/s50-c-k-no/photo.jpg",
      "userId": "101478750498247218859"
     }
    }
   },
   "outputs": [
    {
     "name": "stdout",
     "output_type": "stream",
     "text": [
      "   alc  unknown  malic-acid   ash  alcalinity  magnesium  total-phenols  \\\n",
      "0    1    14.23        1.71  2.43        15.6        127           2.80   \n",
      "1    1    13.20        1.78  2.14        11.2        100           2.65   \n",
      "2    1    13.16        2.36  2.67        18.6        101           2.80   \n",
      "3    1    14.37        1.95  2.50        16.8        113           3.85   \n",
      "4    1    13.24        2.59  2.87        21.0        118           2.80   \n",
      "\n",
      "   flavanoids  nonflavanoid-phenols  proantho  color-intensity   hue  OD280  \\\n",
      "0        3.06                  0.28      2.29             5.64  1.04   3.92   \n",
      "1        2.76                  0.26      1.28             4.38  1.05   3.40   \n",
      "2        3.24                  0.30      2.81             5.68  1.03   3.17   \n",
      "3        3.49                  0.24      2.18             7.80  0.86   3.45   \n",
      "4        2.69                  0.39      1.82             4.32  1.04   2.93   \n",
      "\n",
      "   Proline  \n",
      "0     1065  \n",
      "1     1050  \n",
      "2     1185  \n",
      "3     1480  \n",
      "4      735  \n"
     ]
    }
   ],
   "source": [
    "\n",
    "# Load libraries\n",
    "import pandas\n",
    "from pandas.plotting import scatter_matrix\n",
    "import matplotlib.pyplot as plt\n",
    "from sklearn import model_selection\n",
    "from sklearn.metrics import classification_report\n",
    "from sklearn.metrics import confusion_matrix\n",
    "from sklearn.metrics import accuracy_score\n",
    "from sklearn.linear_model import LogisticRegression\n",
    "from sklearn.tree import DecisionTreeClassifier\n",
    "from sklearn.neighbors import KNeighborsClassifier\n",
    "from sklearn.discriminant_analysis import LinearDiscriminantAnalysis\n",
    "from sklearn.naive_bayes import GaussianNB\n",
    "from sklearn.svm import SVC\n",
    "# Load dataset\n",
    "url = \"http://archive.ics.uci.edu/ml/machine-learning-databases/wine/wine.data\"\n",
    "names = ['alc','unknown' , 'malic-acid', 'ash', 'alcalinity', 'magnesium' , 'total-phenols' , 'flavanoids' , 'nonflavanoid-phenols' , 'proantho' , 'color-intensity' , 'hue' , 'OD280' , 'Proline']\n",
    "dataset = pandas.read_csv(url, names=names)\n",
    "# shape\n",
    "print(dataset.head(5))\n",
    "\n",
    "\n"
   ]
  },
  {
   "cell_type": "code",
   "execution_count": 2,
   "metadata": {
    "id": "mvhLSnnCa2-c",
    "colab_type": "code",
    "colab": {
     "autoexec": {
      "startup": false,
      "wait_interval": 0.0
     },
     "base_uri": "https://localhost:8080/",
     "height": 102.0
    },
    "outputId": "129637c0-d104-49ce-d3b7-b3d31bde5bf8",
    "executionInfo": {
     "status": "ok",
     "timestamp": 1.533297958628E12,
     "user_tz": -330.0,
     "elapsed": 1081.0,
     "user": {
      "displayName": "Ritika Agarwal",
      "photoUrl": "//lh6.googleusercontent.com/-apHnW5HVWCA/AAAAAAAAAAI/AAAAAAAATyA/QkrOTxAqjBE/s50-c-k-no/photo.jpg",
      "userId": "101478750498247218859"
     }
    }
   },
   "outputs": [
    {
     "name": "stdout",
     "output_type": "stream",
     "text": [
      "alc\n",
      "1    59\n",
      "2    71\n",
      "3    48\n",
      "dtype: int64\n"
     ]
    }
   ],
   "source": [
    "print(dataset.groupby('alc').size())"
   ]
  },
  {
   "cell_type": "code",
   "execution_count": 3,
   "metadata": {
    "id": "bh3u2jWgbPJr",
    "colab_type": "code",
    "colab": {
     "autoexec": {
      "startup": false,
      "wait_interval": 0.0
     },
     "base_uri": "https://localhost:8080/",
     "height": 510.0
    },
    "outputId": "bffe26f1-8473-42d3-b667-2b09643dae49",
    "executionInfo": {
     "status": "ok",
     "timestamp": 1.533298062854E12,
     "user_tz": -330.0,
     "elapsed": 968.0,
     "user": {
      "displayName": "Ritika Agarwal",
      "photoUrl": "//lh6.googleusercontent.com/-apHnW5HVWCA/AAAAAAAAAAI/AAAAAAAATyA/QkrOTxAqjBE/s50-c-k-no/photo.jpg",
      "userId": "101478750498247218859"
     }
    }
   },
   "outputs": [
    {
     "name": "stdout",
     "output_type": "stream",
     "text": [
      "              alc     unknown  malic-acid         ash  alcalinity   magnesium  \\\n",
      "count  178.000000  178.000000  178.000000  178.000000  178.000000  178.000000   \n",
      "mean     1.938202   13.000618    2.336348    2.366517   19.494944   99.741573   \n",
      "std      0.775035    0.811827    1.117146    0.274344    3.339564   14.282484   \n",
      "min      1.000000   11.030000    0.740000    1.360000   10.600000   70.000000   \n",
      "25%      1.000000   12.362500    1.602500    2.210000   17.200000   88.000000   \n",
      "50%      2.000000   13.050000    1.865000    2.360000   19.500000   98.000000   \n",
      "75%      3.000000   13.677500    3.082500    2.557500   21.500000  107.000000   \n",
      "max      3.000000   14.830000    5.800000    3.230000   30.000000  162.000000   \n",
      "\n",
      "       total-phenols  flavanoids  nonflavanoid-phenols    proantho  \\\n",
      "count     178.000000  178.000000            178.000000  178.000000   \n",
      "mean        2.295112    2.029270              0.361854    1.590899   \n",
      "std         0.625851    0.998859              0.124453    0.572359   \n",
      "min         0.980000    0.340000              0.130000    0.410000   \n",
      "25%         1.742500    1.205000              0.270000    1.250000   \n",
      "50%         2.355000    2.135000              0.340000    1.555000   \n",
      "75%         2.800000    2.875000              0.437500    1.950000   \n",
      "max         3.880000    5.080000              0.660000    3.580000   \n",
      "\n",
      "       color-intensity         hue       OD280      Proline  \n",
      "count       178.000000  178.000000  178.000000   178.000000  \n",
      "mean          5.058090    0.957449    2.611685   746.893258  \n",
      "std           2.318286    0.228572    0.709990   314.907474  \n",
      "min           1.280000    0.480000    1.270000   278.000000  \n",
      "25%           3.220000    0.782500    1.937500   500.500000  \n",
      "50%           4.690000    0.965000    2.780000   673.500000  \n",
      "75%           6.200000    1.120000    3.170000   985.000000  \n",
      "max          13.000000    1.710000    4.000000  1680.000000  \n"
     ]
    }
   ],
   "source": [
    "print(dataset.describe())"
   ]
  },
  {
   "cell_type": "code",
   "execution_count": 0,
   "metadata": {
    "id": "q0Ls4A2_jkF6",
    "colab_type": "code",
    "colab": {
     "autoexec": {
      "startup": false,
      "wait_interval": 0.0
     }
    }
   },
   "outputs": [],
   "source": [
    "# Split-out validation dataset\n",
    "array = dataset.values\n",
    "X = array[:,1:12]\n",
    "Y = array[:,0]\n",
    "validation_size = 0.20\n",
    "seed = 7\n",
    "X_train, X_validation, Y_train, Y_validation = model_selection.train_test_split(X, Y, test_size=validation_size, random_state=seed)"
   ]
  },
  {
   "cell_type": "code",
   "execution_count": 0,
   "metadata": {
    "id": "knNtKH1Pkegs",
    "colab_type": "code",
    "colab": {
     "autoexec": {
      "startup": false,
      "wait_interval": 0.0
     }
    }
   },
   "outputs": [],
   "source": [
    "# Test options and evaluation metric\n",
    "seed = 7\n",
    "scoring = 'accuracy'"
   ]
  },
  {
   "cell_type": "code",
   "execution_count": 9,
   "metadata": {
    "id": "XD-tP530kgBz",
    "colab_type": "code",
    "colab": {
     "autoexec": {
      "startup": false,
      "wait_interval": 0.0
     },
     "base_uri": "https://localhost:8080/",
     "height": 119.0
    },
    "outputId": "a5a88967-7bea-4d42-939c-1a0de4673d7d",
    "executionInfo": {
     "status": "ok",
     "timestamp": 1.53329865554E12,
     "user_tz": -330.0,
     "elapsed": 991.0,
     "user": {
      "displayName": "Ritika Agarwal",
      "photoUrl": "//lh6.googleusercontent.com/-apHnW5HVWCA/AAAAAAAAAAI/AAAAAAAATyA/QkrOTxAqjBE/s50-c-k-no/photo.jpg",
      "userId": "101478750498247218859"
     }
    }
   },
   "outputs": [
    {
     "name": "stdout",
     "output_type": "stream",
     "text": [
      "LR: 0.922857 (0.073857)\n",
      "LDA: 0.964762 (0.035264)\n",
      "KNN: 0.787619 (0.106675)\n",
      "CART: 0.900476 (0.085885)\n",
      "NB: 0.936667 (0.067312)\n",
      "SVM: 0.858571 (0.084972)\n"
     ]
    }
   ],
   "source": [
    "# Spot Check Algorithms\n",
    "models = []\n",
    "models.append(('LR', LogisticRegression()))\n",
    "models.append(('LDA', LinearDiscriminantAnalysis()))\n",
    "models.append(('KNN', KNeighborsClassifier()))\n",
    "models.append(('CART', DecisionTreeClassifier()))\n",
    "models.append(('NB', GaussianNB()))\n",
    "models.append(('SVM', SVC()))\n",
    "# evaluate each model in turn\n",
    "results = []\n",
    "names = []\n",
    "for name, model in models:\n",
    "\tkfold = model_selection.KFold(n_splits=10, random_state=seed)\n",
    "\tcv_results = model_selection.cross_val_score(model, X_train, Y_train, cv=kfold, scoring=scoring)\n",
    "\tresults.append(cv_results)\n",
    "\tnames.append(name)\n",
    "\tmsg = \"%s: %f (%f)\" % (name, cv_results.mean(), cv_results.std())\n",
    "\tprint(msg)"
   ]
  },
  {
   "cell_type": "code",
   "execution_count": 10,
   "metadata": {
    "id": "l8B1ZRkblUjI",
    "colab_type": "code",
    "colab": {
     "autoexec": {
      "startup": false,
      "wait_interval": 0.0
     },
     "base_uri": "https://localhost:8080/",
     "height": 386.0
    },
    "outputId": "f4312255-7636-4761-ecd5-ae9706df8d5e",
    "executionInfo": {
     "status": "ok",
     "timestamp": 1.53329867355E12,
     "user_tz": -330.0,
     "elapsed": 1416.0,
     "user": {
      "displayName": "Ritika Agarwal",
      "photoUrl": "//lh6.googleusercontent.com/-apHnW5HVWCA/AAAAAAAAAAI/AAAAAAAATyA/QkrOTxAqjBE/s50-c-k-no/photo.jpg",
      "userId": "101478750498247218859"
     }
    }
   },
   "outputs": [
    {
     "data": {
      "image/png": "[encoded data removed]",
      "text/plain": [
       "<matplotlib.figure.Figure at 0x7ff8d0de1080>"
      ]
     },
     "metadata": {
      "tags": []
     },
     "output_type": "display_data"
    }
   ],
   "source": [
    "# Compare Algorithms\n",
    "fig = plt.figure()\n",
    "fig.suptitle('Algorithm Comparison')\n",
    "ax = fig.add_subplot(111)\n",
    "plt.boxplot(results)\n",
    "ax.set_xticklabels(names)\n",
    "plt.show()"
   ]
  },
  {
   "cell_type": "code",
   "execution_count": 0,
   "metadata": {
    "id": "SoMpH9aFuQF4",
    "colab_type": "code",
    "colab": {
     "autoexec": {
      "startup": false,
      "wait_interval": 0.0
     }
    }
   },
   "outputs": [],
   "source": [
    ""
   ]
  }
 ],
 "metadata": {
  "colab": {
   "name": "Untitled0.ipynb",
   "version": "0.3.2",
   "views": {},
   "default_view": {},
   "provenance": []
  },
  "kernelspec": {
   "name": "python3",
   "display_name": "Python 3"
  }
 },
 "nbformat": 4,
 "nbformat_minor": 0
}
